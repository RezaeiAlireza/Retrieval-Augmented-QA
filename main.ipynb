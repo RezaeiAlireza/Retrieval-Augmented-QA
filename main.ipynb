{
 "cells": [
  {
   "cell_type": "markdown",
   "metadata": {},
   "source": [
    "# Libraries and Dependencies"
   ]
  },
  {
   "cell_type": "code",
   "execution_count": null,
   "metadata": {},
   "outputs": [],
   "source": [
    "# !pip install pytesseract fitz pillow spacy -q pypdf python-dotenv langchain-community chromadb huggingface_hub -q\n",
    "# !python -m spacy download en_core_web_sm -q\n",
    "# !apt install tesseract-ocr\n",
    "# !apt install libtesseract-dev\n",
    "# !pip install pymupdf --no-cache-dir # Reinstall, using --no-cache-dir to skip cached installations"
   ]
  },
  {
   "cell_type": "markdown",
   "metadata": {},
   "source": [
    "# Converting the Scanned PDF into Structured PDF"
   ]
  },
  {
   "cell_type": "code",
   "execution_count": null,
   "metadata": {},
   "outputs": [],
   "source": [
    "import os\n",
    "import textwrap\n",
    "import fitz\n",
    "from PIL import Image\n",
    "import pytesseract\n",
    "import spacy"
   ]
  },
  {
   "cell_type": "markdown",
   "metadata": {},
   "source": [
    "## Process Input File\n",
    "The following function processes different file formats (PDF, JPG, PNG, TXT) and extract the text content from them using appropriate methods.\n",
    "\n",
    "Arguments: \n",
    "- file_path : str : The path to the file to be processed\n",
    "\n",
    "Returns:\n",
    "- str : Extracted text from the file"
   ]
  },
  {
   "cell_type": "code",
   "execution_count": null,
   "metadata": {},
   "outputs": [],
   "source": [
    "def process_file(file_path):\n",
    "    # Get the file extension to determine file type\n",
    "    ext = os.path.splitext(file_path)[1].lower()\n",
    "\n",
    "    if ext == '.pdf':\n",
    "        # If it's a PDF, convert to images and use tesseract\n",
    "        doc = fitz.open(file_path)\n",
    "        text = \"\"\n",
    "        for page_num in range(len(doc)):\n",
    "            page = doc.load_page(page_num)\n",
    "            pix = page.get_pixmap()\n",
    "            img_path = f\"page_{page_num}.png\"\n",
    "            pix.save(img_path)\n",
    "            text += pytesseract.image_to_string(Image.open(img_path))\n",
    "        return text\n",
    "\n",
    "    elif ext in ['.jpg', '.jpeg', '.png']:\n",
    "        # If it's an image, directly use tesseract\n",
    "        return pytesseract.image_to_string(Image.open(file_path))\n",
    "\n",
    "    elif ext == '.txt':\n",
    "        # If it's a text file, simply read the text\n",
    "        with open(file_path, 'r') as file:\n",
    "            return file.read()\n",
    "\n",
    "    else:\n",
    "        raise ValueError(\"Unsupported file type\")"
   ]
  },
  {
   "cell_type": "markdown",
   "metadata": {},
   "source": [
    "Provide the file path for the file you want to process"
   ]
  },
  {
   "cell_type": "code",
   "execution_count": 6,
   "metadata": {},
   "outputs": [],
   "source": [
    "# Example usage:\n",
    "file_path = \"scansmpl.jpg\" #\"scansmpl.pdf\"\n",
    "text = process_file(file_path)"
   ]
  },
  {
   "cell_type": "code",
   "execution_count": 7,
   "metadata": {},
   "outputs": [],
   "source": [
    "# Analyze and Structure the text\n",
    "nlp = spacy.load(\"en_core_web_sm\")\n",
    "doc = nlp(text)\n",
    "\n",
    "structured_text = []\n",
    "for sent in doc.sents:\n",
    "    structured_text.append(sent.text)\n"
   ]
  },
  {
   "cell_type": "markdown",
   "metadata": {},
   "source": [
    "## QA System\n",
    "Following section focuses on setting up a question-answering system that leverages several powerful libraries from LangChain and HuggingFace."
   ]
  },
  {
   "cell_type": "code",
   "execution_count": 21,
   "metadata": {},
   "outputs": [],
   "source": [
    "import sys\n",
    "from dotenv import load_dotenv, find_dotenv\n",
    "\n",
    "from langchain.chains import RetrievalQA\n",
    "from langchain.document_loaders import PyPDFLoader\n",
    "from langchain.text_splitter import CharacterTextSplitter\n",
    "from langchain.vectorstores import Chroma\n",
    "from langchain_community.llms import HuggingFaceEndpoint\n",
    "from langchain_community.embeddings import HuggingFaceEmbeddings\n",
    "\n",
    "# Load environment variables from a .env file\n",
    "sys.path.append('../..')\n",
    "_ = load_dotenv(find_dotenv())\n",
    "\n",
    "# Set up HuggingFace embeddings and LLM\n",
    "embedding = HuggingFaceEmbeddings(\n",
    "    model_name=\"BAAI/bge-small-en-v1.5\",\n",
    "    model_kwargs={'device': 'cuda'},\n",
    "    encode_kwargs={'device': 'cuda'}\n",
    ")\n",
    "\n",
    "# Retrieve HuggingFace API token from environment variables (TKN is the key in the .env file)\n",
    "HUGGINGFACEHUB_API_TOKEN = os.getenv(\"TKN\")\n",
    "repo_id = \"mistralai/Mistral-7B-Instruct-v0.2\"\n",
    "llm = HuggingFaceEndpoint(\n",
    "    repo_id=repo_id,\n",
    "    temperature=0.5,\n",
    ")\n",
    "\n",
    "# Define the directory to persist vectorstore data\n",
    "persist_directory = \"./p_dir\"\n",
    "\n",
    "# Load and split the PDF document\n",
    "loader = PyPDFLoader(file_path=\"output.pdf\")\n",
    "documents = loader.load()\n",
    "\n",
    "text_splitter = CharacterTextSplitter(\n",
    "    chunk_size=1000,\n",
    "    chunk_overlap=30,\n",
    "    separator=\"\\n\"\n",
    ")\n",
    "documents = text_splitter.split_documents(documents=documents)\n",
    "\n",
    "# Create a Chroma vectorstore from the documents\n",
    "vectordb = Chroma.from_documents(\n",
    "    documents=documents,\n",
    "    embedding=embedding,\n",
    "    persist_directory=persist_directory\n",
    ")\n",
    "\n",
    "# Set up the retriever from the vectorstore\n",
    "retriever = vectordb.as_retriever(search_kwargs={\"k\": 1})\n",
    "\n",
    "# Create the RetrievalQA chain\n",
    "qa = RetrievalQA.from_chain_type(\n",
    "    llm=llm,\n",
    "    chain_type=\"stuff\",\n",
    "    retriever=retriever\n",
    ")\n"
   ]
  },
  {
   "cell_type": "markdown",
   "metadata": {},
   "source": [
    "Example use:"
   ]
  },
  {
   "cell_type": "code",
   "execution_count": 24,
   "metadata": {},
   "outputs": [
    {
     "name": "stdout",
     "output_type": "stream",
     "text": [
      " The registration office for the CROSS Group is located at 40 Vicara Lane, Ilford, Essex.\n"
     ]
    }
   ],
   "source": [
    "response = qa.run(\"Where is the registration office located?\")\n",
    "\n",
    "print(response)"
   ]
  }
 ],
 "metadata": {
  "kernelspec": {
   "display_name": "gitNew",
   "language": "python",
   "name": "python3"
  },
  "language_info": {
   "codemirror_mode": {
    "name": "ipython",
    "version": 3
   },
   "file_extension": ".py",
   "mimetype": "text/x-python",
   "name": "python",
   "nbconvert_exporter": "python",
   "pygments_lexer": "ipython3",
   "version": "3.9.20"
  }
 },
 "nbformat": 4,
 "nbformat_minor": 2
}
