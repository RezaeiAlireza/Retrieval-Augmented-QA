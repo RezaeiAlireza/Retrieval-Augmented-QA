{
 "cells": [
  {
   "cell_type": "markdown",
   "metadata": {},
   "source": [
    "# Converting the Scanned PDF into Structured PDF"
   ]
  },
  {
   "cell_type": "code",
   "execution_count": 87,
   "metadata": {},
   "outputs": [],
   "source": [
    "import textwrap\n",
    "from fpdf import FPDF #type:ignore\n",
    "import fitz #type:ignore\n",
    "from PIL import Image\n",
    "import pytesseract\n",
    "import spacy #type:ignore"
   ]
  },
  {
   "cell_type": "code",
   "execution_count": 88,
   "metadata": {},
   "outputs": [],
   "source": [
    "# Converting the pdf file into images for tesseract to read\n",
    "pdf_document = \"scansmpl.pdf\"\n",
    "doc = fitz.open(pdf_document)\n",
    "for page_num in range(len(doc)):\n",
    "    page = doc.load_page(page_num)\n",
    "    pix = page.get_pixmap()\n",
    "    output = f\"page_{page_num}.png\"\n",
    "    pix.save(output)\n"
   ]
  },
  {
   "cell_type": "code",
   "execution_count": 89,
   "metadata": {},
   "outputs": [],
   "source": [
    "# Using tesseract to extract the text from the images\n",
    "text = \"\"\n",
    "for page_num in range(len(doc)):\n",
    "    img_path = f\"page_{page_num}.png\"\n",
    "    text += pytesseract.image_to_string(Image.open(img_path))\n"
   ]
  },
  {
   "cell_type": "code",
   "execution_count": 90,
   "metadata": {},
   "outputs": [],
   "source": [
    "# Analyze and Structure the text\n",
    "nlp = spacy.load(\"en_core_web_sm\")\n",
    "doc = nlp(text)\n",
    "\n",
    "structured_text = []\n",
    "for sent in doc.sents:\n",
    "    structured_text.append(sent.text)\n"
   ]
  },
  {
   "cell_type": "code",
   "execution_count": 91,
   "metadata": {},
   "outputs": [],
   "source": [
    "# Creating a PDF file to save the text in it using the same line formatting as the original PDF\n",
    "def text_to_pdf(lines, filename):\n",
    "    a4_width_mm = 210\n",
    "    pt_to_mm = 0.35\n",
    "    fontsize_pt = 10\n",
    "    fontsize_mm = fontsize_pt * pt_to_mm\n",
    "    margin_bottom_mm = 10\n",
    "    character_width_mm = 7 * pt_to_mm\n",
    "    width_text = a4_width_mm / character_width_mm\n",
    "\n",
    "    pdf = FPDF(orientation='P', unit='mm', format='A4')\n",
    "    pdf.set_auto_page_break(True, margin=margin_bottom_mm)\n",
    "    pdf.add_page()\n",
    "    pdf.set_font(family='Courier', size=fontsize_pt)\n",
    "\n",
    "    for line in lines:\n",
    "        wrapped_lines = textwrap.wrap(line, int(width_text))\n",
    "\n",
    "        if len(line.strip()) == 0:\n",
    "            pdf.ln(fontsize_mm)\n",
    "        else:\n",
    "            for wrap in wrapped_lines:\n",
    "                pdf.cell(0, fontsize_mm, wrap, ln=1)\n",
    "            if len(wrapped_lines) > 0:\n",
    "                pdf.ln(fontsize_mm)\n",
    "\n",
    "    pdf.output(filename)\n",
    "\n",
    "output_filename = 'output.pdf'\n",
    "\n",
    "\n",
    "text_to_pdf(structured_text, output_filename)\n"
   ]
  },
  {
   "cell_type": "markdown",
   "metadata": {},
   "source": [
    "# Using Langchain and Huggingface Endpoint to chat with the PDF"
   ]
  },
  {
   "cell_type": "code",
   "execution_count": null,
   "metadata": {},
   "outputs": [],
   "source": [
    "import os\n",
    "import sys\n",
    "from dotenv import load_dotenv, find_dotenv\n",
    "\n",
    "from langchain.chains import RetrievalQA\n",
    "from langchain.document_loaders import PyPDFLoader\n",
    "from langchain.text_splitter import CharacterTextSplitter\n",
    "from langchain.vectorstores import Chroma\n",
    "from langchain_community.llms import HuggingFaceEndpoint\n",
    "from langchain_community.embeddings import HuggingFaceEmbeddings\n",
    "import warnings\n",
    "warnings.filterwarnings('ignore')\n",
    "# Load environment variables from a .env file\n",
    "sys.path.append('../..')\n",
    "_ = load_dotenv(find_dotenv())\n",
    "\n",
    "# Set up HuggingFace embeddings and LLM\n",
    "embedding = HuggingFaceEmbeddings(\n",
    "    model_name=\"BAAI/bge-small-en-v1.5\",\n",
    "    model_kwargs={'device': 'cuda'},\n",
    "    encode_kwargs={'device': 'cuda'}\n",
    ")\n",
    "\n",
    "HUGGINGFACEHUB_API_TOKEN = os.getenv(\"TKN\")\n",
    "repo_id = \"mistralai/Mistral-7B-Instruct-v0.2\"\n",
    "llm = HuggingFaceEndpoint(\n",
    "    repo_id=repo_id,\n",
    "    max_length=128,\n",
    "    temperature=0.5,\n",
    "    token=HUGGINGFACEHUB_API_TOKEN\n",
    ")\n",
    "\n",
    "# Define the directory to persist vectorstore data\n",
    "persist_directory = \"./persist_directory\"\n",
    "\n",
    "# Load and split the PDF document\n",
    "loader = PyPDFLoader(file_path=\"output.pdf\")\n",
    "documents = loader.load()\n",
    "\n",
    "text_splitter = CharacterTextSplitter(\n",
    "    chunk_size=1000,\n",
    "    chunk_overlap=30,\n",
    "    separator=\"\\n\"\n",
    ")\n",
    "documents = text_splitter.split_documents(documents=documents)\n",
    "\n",
    "# Create a Chroma vectorstore from the documents\n",
    "vectordb = Chroma.from_documents(\n",
    "    documents=documents,\n",
    "    embedding=embedding,\n",
    "    persist_directory=persist_directory\n",
    ")\n",
    "\n",
    "# Set up the retriever from the vectorstore\n",
    "retriever = vectordb.as_retriever(search_kwargs={"k": 1})\n",
    "\n",
    "# Create the RetrievalQA chain\n",
    "qa = RetrievalQA.from_chain_type(\n",
    "    llm=llm,\n",
    "    chain_type=\"stuff\",\n",
    "    retriever=retriever\n",
    ")\n",
    "\n",
    "# The QA chain is now ready to be used for question answering tasks\n"
   ]
  },
  {
   "cell_type": "code",
   "execution_count": 93,
   "metadata": {},
   "outputs": [
    {
     "name": "stderr",
     "output_type": "stream",
     "text": [
      "Number of requested results 4 is greater than number of elements in index 2, updating n_results = 2\n"
     ]
    },
    {
     "name": "stdout",
     "output_type": "stream",
     "text": [
      " Dr. P.N. Cundall wrote the letter introducing the concept of facsimile to Pete.\n"
     ]
    }
   ],
   "source": [
    "response = qa.run(\"Who wrote it?\")\n",
    "\n",
    "print(response)"
   ]
  },
  {
   "cell_type": "code",
   "execution_count": 96,
   "metadata": {},
   "outputs": [
    {
     "name": "stdout",
     "output_type": "stream",
     "text": [
      " Yes, there are a few typos in the text. Here are some of them:\n",
      "\n",
      "* \"facsinile\" should be \"facsimile\"\n",
      "* \"cerminal\" should be \"terminal\"\n",
      "* \"Probably you have uses for this facility in your organisation\" should be \"Probably your organisation has uses for this facility\"\n",
      "* \"Asa result, a facsimile copy of the subject document is produced\" should be \"As a result, a facsimile copy of the original document is produced\"\n",
      "\n",
      "So the corrected text would look like this:\n",
      "\n",
      "THE SLEREXE COMPANY LIMITED  SAPORS LANE - BOOLE - DORSET .\n",
      "BH2S SER seumrone noun (945 13) S617 = rau 12586  Our Ref.\n",
      "350/PIC/EAC 18eh January, 1972.\n",
      "\n",
      "Dr. P.N, Cundall, Mining Surveys Led Wolroyd Road, Reading,  Berks\n",
      "\n",
      "Dear Pete,\n",
      "\n",
      "Permit me to introduce you to the facility of facsimile. In facsimile, a photocell is\n",
      "caused to perform a raster scan over the subject copy.\n",
      "\n",
      "The variations of print density on the document cause the photocell to generate an\n",
      "analogous electrical video signal.\n",
      "\n",
      "This signal is used to modulate a carrier, which is transmitted to the remote\n",
      "destination over a radio or cable communications link.\n",
      "\n",
      "At the remote terminal, demodulation reconstructs the video signal, which is used to\n",
      "modulate the density of print produced by a Printing device.\n",
      "\n",
      "This device is scanning in a raster scan synchronized with that at the transmitting\n",
      "terminal.\n",
      "\n",
      "As a result, a facsimile copy of the original document is produced.\n",
      "\n",
      "Probably your organisation has uses for this facility.\n",
      "\n",
      "Yours sincerely,  PJ.\n",
      "CROSS Group Leader - Facsimile Research  Regulated Offices Wars Lane Tes,\n"
     ]
    }
   ],
   "source": [
    "response = qa.run(\"Are there any typos in it?\")\n",
    "\n",
    "print(response)"
   ]
  }
 ],
 "metadata": {
  "kernelspec": {
   "display_name": "Python 3",
   "language": "python",
   "name": "python3"
  },
  "language_info": {
   "codemirror_mode": {
    "name": "ipython",
    "version": 3
   },
   "file_extension": ".py",
   "mimetype": "text/x-python",
   "name": "python",
   "nbconvert_exporter": "python",
   "pygments_lexer": "ipython3",
   "version": "3.10.12"
  }
 },
 "nbformat": 4,
 "nbformat_minor": 2
}
